{
 "cells": [
  {
   "cell_type": "code",
   "execution_count": 1,
   "metadata": {},
   "outputs": [],
   "source": [
    "from collections import deque\n",
    "import utils\n",
    "\n",
    "with open(\"inputs/10.txt\", 'r') as fh:\n",
    "    sketch = [list(line.strip()) for line in fh.readlines() if line.strip()]"
   ]
  },
  {
   "cell_type": "code",
   "execution_count": 2,
   "metadata": {},
   "outputs": [],
   "source": [
    "H = len(sketch)\n",
    "W = len(sketch[0])\n",
    "\n",
    "potential = {\n",
    "    \"|\": [(-1, 0), (1, 0)],\n",
    "    \"-\": [(0, -1), (0, 1)],\n",
    "    \"L\": [(-1, 0), (0, 1)],\n",
    "    \"J\": [(-1, 0), (0, -1)],\n",
    "    \"7\": [(0, -1), (1, 0)],\n",
    "    \"F\": [(0, 1), (1, 0)],\n",
    "}\n",
    "\n",
    "def get_neighbors(i, j):\n",
    "    neighbors = []\n",
    "    for oi, oj in potential[sketch[i][j]]:\n",
    "        i_ = i + oi\n",
    "        j_ = j + oj\n",
    "        if i_ >= 0 and i_ < H and j_ >= 0 and j_ < W:\n",
    "            neighbors.append((i_, j_))\n",
    "    return neighbors\n",
    "\n",
    "def find(arr2d, val):\n",
    "    for i in range(H):\n",
    "        for j in range(W):\n",
    "            if arr2d[i][j] == val:\n",
    "                return (i, j)\n",
    "\n",
    "def argmax(arr2d):\n",
    "    mi = 0\n",
    "    mj = 0\n",
    "    for i in range(H):\n",
    "        for j in range(W):\n",
    "            if arr2d[i][j] is not None and (arr2d[mi][mj] is None or arr2d[i][j] > arr2d[mi][mj]):\n",
    "                mi, mj = i, j\n",
    "    return (mi, mj)"
   ]
  },
  {
   "cell_type": "code",
   "execution_count": 3,
   "metadata": {},
   "outputs": [],
   "source": [
    "# Find S\n",
    "i0, j0 = find(sketch, \"S\")"
   ]
  },
  {
   "cell_type": "code",
   "execution_count": 4,
   "metadata": {},
   "outputs": [],
   "source": [
    "# Replace S according to its neighbors\n",
    "west = j0 > 0 and sketch[i0][j0-1] in \"-LF\"\n",
    "east = j0 < W-1 and sketch[i0][j0+1] in \"-7J\"\n",
    "north = i0 > 0 and sketch[i0-1][j0] in \"|F7\"\n",
    "south = i0 < H-1 and sketch[i0+1][j0] in \"|JL\"\n",
    "if north and south:\n",
    "    sketch[i0][j0] = \"|\"\n",
    "if east and west:\n",
    "    sketch[i0][j0] = \"-\"\n",
    "elif north and east:\n",
    "    sketch[i0][j0] = \"L\"\n",
    "elif north and west:\n",
    "    sketch[i0][j0] = \"J\"\n",
    "elif south and west:\n",
    "    sketch[i0][j0] = \"7\"\n",
    "elif south and east:\n",
    "    sketch[i0][j0] = \"F\""
   ]
  },
  {
   "cell_type": "code",
   "execution_count": 5,
   "metadata": {},
   "outputs": [
    {
     "name": "stdout",
     "output_type": "stream",
     "text": [
      "6831\n"
     ]
    }
   ],
   "source": [
    "# Part 1: Dijkstra\n",
    "dist = [[None] * W for _ in range(H)]\n",
    "dist[i0][j0] = 0\n",
    "queue = deque()\n",
    "queue.append((i0, j0))\n",
    "while queue:\n",
    "    i, j = queue.popleft()\n",
    "    d = dist[i][j]\n",
    "    for i_, j_ in get_neighbors(i, j):\n",
    "        if dist[i_][j_] is None:\n",
    "            dist[i_][j_] = d + 1\n",
    "            queue.append((i_, j_))\n",
    "mi, mj = argmax(dist)\n",
    "print(dist[mi][mj])"
   ]
  },
  {
   "cell_type": "code",
   "execution_count": 6,
   "metadata": {},
   "outputs": [],
   "source": [
    "# Part 2\n",
    "# Replace all non-loop tiles with \".\"\n",
    "for i in range(H):\n",
    "    for j in range(W):\n",
    "        if dist[i][j] is None:\n",
    "            sketch[i][j] = \".\""
   ]
  },
  {
   "cell_type": "code",
   "execution_count": 7,
   "metadata": {},
   "outputs": [
    {
     "name": "stdout",
     "output_type": "stream",
     "text": [
      "305\n"
     ]
    }
   ],
   "source": [
    "# Create a larger sketch from the small sketch, fill the gaps, mark the outside\n",
    "HL = 2 * H + 1\n",
    "WL = 2 * W + 1\n",
    "bigsketch = [[\".\"]*WL for _ in range(HL)]\n",
    "for i in range(H):\n",
    "    for j in range(W):\n",
    "        bigsketch[2*i+1][2*j+1] = sketch[i][j]\n",
    "for i in range(1, HL-1):\n",
    "    for j in range(1, WL-1):\n",
    "        if (i + j) % 2 == 1:\n",
    "            west = bigsketch[i][j-1] in \"-LF\"\n",
    "            east = bigsketch[i][j+1] in \"-7J\"\n",
    "            north = bigsketch[i-1][j] in \"|F7\"\n",
    "            south = bigsketch[i+1][j] in \"|JL\"\n",
    "            if (north and south) or (west and east):\n",
    "                bigsketch[i][j] = \"x\"\n",
    "for i in range(HL):\n",
    "    bigsketch[i][0] = \"O\"\n",
    "    bigsketch[i][-1] = \"O\"\n",
    "for j in range(WL):\n",
    "    bigsketch[0][j] = \"O\"\n",
    "    bigsketch[-1][j] = \"O\"\n",
    "\n",
    "# Start Dijkstra from the Os\n",
    "queue = deque([(i, j) for i in range(HL) for j in range(WL) if bigsketch[i][j] == \"O\"])\n",
    "while queue:\n",
    "    i, j = queue.popleft()\n",
    "    for i_, j_ in [(i-1, j), (i+1, j), (i, j-1), (i, j+1)]:\n",
    "        if i_ >= 0 and i_ < HL and j_ >= 0 and j_ < WL and bigsketch[i_][j_] == \".\":\n",
    "            bigsketch[i_][j_] = \"O\"\n",
    "            queue.append((i_, j_))\n",
    "\n",
    "# Count inside tiles in small sketch\n",
    "for i in range(H):\n",
    "    for j in range(W):\n",
    "        sketch[i][j] = bigsketch[2*i+1][2*j+1]\n",
    "print(sum(1 if sketch[i][j] == \".\" else 0 for i in range(H) for j in range(W)))\n"
   ]
  }
 ],
 "metadata": {
  "kernelspec": {
   "display_name": "Python 3",
   "language": "python",
   "name": "python3"
  },
  "language_info": {
   "codemirror_mode": {
    "name": "ipython",
    "version": 3
   },
   "file_extension": ".py",
   "mimetype": "text/x-python",
   "name": "python",
   "nbconvert_exporter": "python",
   "pygments_lexer": "ipython3",
   "version": "3.11.3"
  }
 },
 "nbformat": 4,
 "nbformat_minor": 2
}
