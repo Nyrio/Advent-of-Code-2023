{
 "cells": [
  {
   "cell_type": "code",
   "execution_count": 1,
   "metadata": {},
   "outputs": [],
   "source": [
    "import re\n",
    "from collections import defaultdict\n",
    "\n",
    "with open(\"inputs/02.txt\", 'r') as fh:\n",
    "    lines = [line.strip() for line in fh.readlines() if line.strip()]"
   ]
  },
  {
   "cell_type": "code",
   "execution_count": 2,
   "metadata": {},
   "outputs": [
    {
     "name": "stdout",
     "output_type": "stream",
     "text": [
      "2369\n"
     ]
    }
   ],
   "source": [
    "# Part 1\n",
    "max_colors = {\"red\": 12, \"green\": 13, \"blue\": 14}\n",
    "reg_line = re.compile(r\"Game (?P<id>\\d+): (?P<draws>.+)\")\n",
    "reg_numcolor = re.compile(r\"(\\d+) (\\w+)\")\n",
    "s = 0\n",
    "for line in lines:\n",
    "    match = re.match(reg_line, line)\n",
    "    gameid = int(match.group(\"id\"))\n",
    "    valid = True\n",
    "    for draw in match.group(\"draws\").split(';'):\n",
    "        set_colors = defaultdict(int)\n",
    "        for num, color in re.findall(reg_numcolor, draw):\n",
    "            set_colors[color] += int(num)\n",
    "        for color in max_colors:\n",
    "            if set_colors[color] > max_colors[color]:\n",
    "                valid = False\n",
    "    if valid:\n",
    "        s += gameid\n",
    "print(s)"
   ]
  },
  {
   "cell_type": "code",
   "execution_count": 3,
   "metadata": {},
   "outputs": [
    {
     "name": "stdout",
     "output_type": "stream",
     "text": [
      "66363\n"
     ]
    }
   ],
   "source": [
    "# Part 2\n",
    "reg_line = re.compile(r\"Game (?P<id>\\d+): (?P<draws>.+)\")\n",
    "reg_numcolor = re.compile(r\"(\\d+) (\\w+)\")\n",
    "s = 0\n",
    "for line in lines:\n",
    "    match = re.match(reg_line, line)\n",
    "    gameid = int(match.group(\"id\"))\n",
    "    set_max = defaultdict(int)\n",
    "    for draw in match.group(\"draws\").split(';'):\n",
    "        for num, color in re.findall(reg_numcolor, draw):\n",
    "            set_max[color] = max(set_max[color], int(num))\n",
    "    power = set_max[\"red\"] * set_max[\"green\"] * set_max[\"blue\"]\n",
    "    s += power\n",
    "print(s)"
   ]
  }
 ],
 "metadata": {
  "kernelspec": {
   "display_name": "Python 3",
   "language": "python",
   "name": "python3"
  },
  "language_info": {
   "codemirror_mode": {
    "name": "ipython",
    "version": 3
   },
   "file_extension": ".py",
   "mimetype": "text/x-python",
   "name": "python",
   "nbconvert_exporter": "python",
   "pygments_lexer": "ipython3",
   "version": "3.11.3"
  }
 },
 "nbformat": 4,
 "nbformat_minor": 2
}
