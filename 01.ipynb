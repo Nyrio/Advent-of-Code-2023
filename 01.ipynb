{
 "cells": [
  {
   "cell_type": "code",
   "execution_count": 1,
   "metadata": {},
   "outputs": [],
   "source": [
    "with open(\"inputs/01.txt\", 'r') as fh:\n",
    "    lines = fh.readlines()"
   ]
  },
  {
   "cell_type": "code",
   "execution_count": 2,
   "metadata": {},
   "outputs": [
    {
     "name": "stdout",
     "output_type": "stream",
     "text": [
      "54990\n"
     ]
    }
   ],
   "source": [
    "# Part 1\n",
    "s = 0\n",
    "for line in lines:\n",
    "    nums =  [c for c in line if c.isnumeric()]\n",
    "    if nums:\n",
    "        s += 10 * int(nums[0]) + int(nums[-1])\n",
    "print(s)"
   ]
  },
  {
   "cell_type": "code",
   "execution_count": 3,
   "metadata": {},
   "outputs": [
    {
     "name": "stdout",
     "output_type": "stream",
     "text": [
      "54473\n"
     ]
    }
   ],
   "source": [
    "# Part 2\n",
    "words = [\"one\", \"two\", \"three\", \"four\", \"five\", \"six\", \"seven\", \"eight\", \"nine\"]\n",
    "s = 0\n",
    "for line in lines:\n",
    "    nums =  []\n",
    "    i = 0\n",
    "    while i < len(line):\n",
    "        if line[i].isnumeric():\n",
    "            nums.append(int(line[i]))\n",
    "        else:\n",
    "            for j in range(len(words)):\n",
    "                if line[i:].startswith(words[j]):\n",
    "                    nums.append(j + 1)\n",
    "                    break\n",
    "        i += 1\n",
    "    if nums:\n",
    "        s += 10 * nums[0] + nums[-1]\n",
    "print(s)"
   ]
  }
 ],
 "metadata": {
  "kernelspec": {
   "display_name": "Python 3",
   "language": "python",
   "name": "python3"
  },
  "language_info": {
   "codemirror_mode": {
    "name": "ipython",
    "version": 3
   },
   "file_extension": ".py",
   "mimetype": "text/x-python",
   "name": "python",
   "nbconvert_exporter": "python",
   "pygments_lexer": "ipython3",
   "version": "3.11.3"
  }
 },
 "nbformat": 4,
 "nbformat_minor": 2
}
