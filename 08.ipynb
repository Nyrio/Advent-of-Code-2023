{
 "cells": [
  {
   "cell_type": "code",
   "execution_count": 1,
   "metadata": {},
   "outputs": [],
   "source": [
    "import math\n",
    "import re\n",
    "\n",
    "with open(\"inputs/08.txt\", 'r') as fh:\n",
    "    lines = [line.strip() for line in fh.readlines() if line.strip()]"
   ]
  },
  {
   "cell_type": "code",
   "execution_count": 2,
   "metadata": {},
   "outputs": [],
   "source": [
    "dir = [1 if d == \"R\" else 0 for d in lines[0]]\n",
    "\n",
    "graph = {}\n",
    "reg_node = re.compile(r\"(?P<src>\\w+) = \\((?P<left>\\w+), (?P<right>\\w+)\\)\")\n",
    "for line in lines[1:]:\n",
    "    m = re.match(reg_node, line)\n",
    "    if m:\n",
    "        src = m.group(\"src\")\n",
    "        left = m.group(\"left\")\n",
    "        right = m.group(\"right\")\n",
    "    graph[src] = (left, right)\n"
   ]
  },
  {
   "cell_type": "code",
   "execution_count": 3,
   "metadata": {},
   "outputs": [
    {
     "name": "stdout",
     "output_type": "stream",
     "text": [
      "11567\n"
     ]
    }
   ],
   "source": [
    "# Part 1\n",
    "head = \"AAA\"\n",
    "steps = 0\n",
    "while head != \"ZZZ\":\n",
    "    d = dir[steps % len(dir)]\n",
    "    head = graph[head][d]\n",
    "    steps += 1\n",
    "print(steps)"
   ]
  },
  {
   "cell_type": "code",
   "execution_count": 4,
   "metadata": {},
   "outputs": [
    {
     "name": "stdout",
     "output_type": "stream",
     "text": [
      "9858474970153\n"
     ]
    }
   ],
   "source": [
    "# Part 2\n",
    "# Not a generic solution but works due to patterns in given input data\n",
    "all_steps = []\n",
    "heads = {k for k in graph if k.endswith(\"A\")}\n",
    "for k in graph:\n",
    "    if k.endswith(\"A\"):\n",
    "        head = k\n",
    "        steps = 0\n",
    "        while not head.endswith(\"Z\"):\n",
    "            d = dir[steps % len(dir)]\n",
    "            head = graph[head][d]\n",
    "            steps += 1\n",
    "        all_steps.append(steps)\n",
    "print(math.lcm(*all_steps))"
   ]
  }
 ],
 "metadata": {
  "kernelspec": {
   "display_name": "Python 3",
   "language": "python",
   "name": "python3"
  },
  "language_info": {
   "codemirror_mode": {
    "name": "ipython",
    "version": 3
   },
   "file_extension": ".py",
   "mimetype": "text/x-python",
   "name": "python",
   "nbconvert_exporter": "python",
   "pygments_lexer": "ipython3",
   "version": "3.11.3"
  }
 },
 "nbformat": 4,
 "nbformat_minor": 2
}
