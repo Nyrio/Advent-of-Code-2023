{
 "cells": [
  {
   "cell_type": "code",
   "execution_count": 1,
   "metadata": {},
   "outputs": [],
   "source": [
    "import re\n",
    "import typing\n",
    "import utils"
   ]
  },
  {
   "cell_type": "code",
   "execution_count": 2,
   "metadata": {},
   "outputs": [],
   "source": [
    "with open(\"inputs/04.txt\", 'r') as fh:\n",
    "    lines = [line.strip() for line in fh.readlines() if line.strip()]"
   ]
  },
  {
   "cell_type": "code",
   "execution_count": 3,
   "metadata": {},
   "outputs": [
    {
     "name": "stdout",
     "output_type": "stream",
     "text": [
      "19135\n"
     ]
    }
   ],
   "source": [
    "# Part 1\n",
    "s = 0\n",
    "for line in lines:\n",
    "    contents = line.split(\":\")[1].split(\"|\")\n",
    "    winning = set(utils.ints(contents[0]))\n",
    "    mine = set(utils.ints(contents[1]))\n",
    "    inter = set.intersection(winning, mine)\n",
    "    d = len(inter)\n",
    "    if d:\n",
    "        s += 2**(d - 1)\n",
    "print(s)"
   ]
  },
  {
   "cell_type": "code",
   "execution_count": 4,
   "metadata": {},
   "outputs": [
    {
     "name": "stdout",
     "output_type": "stream",
     "text": [
      "5704953\n"
     ]
    }
   ],
   "source": [
    "# Part 2\n",
    "N = len(lines)\n",
    "weights = [1] * N\n",
    "for i in range(N):\n",
    "    line = lines[i]\n",
    "    weight = weights[i]\n",
    "    contents = line.split(\":\")[1].split(\"|\")\n",
    "    winning = set(utils.ints(contents[0]))\n",
    "    mine = set(utils.ints(contents[1]))\n",
    "    inter = set.intersection(winning, mine)\n",
    "    d = len(inter)\n",
    "    for j in range(i+1, min(i+d+1, N)):\n",
    "        weights[j] += weight\n",
    "print(sum(weights))"
   ]
  }
 ],
 "metadata": {
  "kernelspec": {
   "display_name": "Python 3",
   "language": "python",
   "name": "python3"
  },
  "language_info": {
   "codemirror_mode": {
    "name": "ipython",
    "version": 3
   },
   "file_extension": ".py",
   "mimetype": "text/x-python",
   "name": "python",
   "nbconvert_exporter": "python",
   "pygments_lexer": "ipython3",
   "version": "3.11.3"
  }
 },
 "nbformat": 4,
 "nbformat_minor": 2
}
