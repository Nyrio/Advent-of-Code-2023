{
 "cells": [
  {
   "cell_type": "code",
   "execution_count": 1,
   "metadata": {},
   "outputs": [],
   "source": [
    "from collections import defaultdict"
   ]
  },
  {
   "cell_type": "code",
   "execution_count": 2,
   "metadata": {},
   "outputs": [],
   "source": [
    "with open(\"inputs/07.txt\", 'r') as fh:\n",
    "    lines = [line.strip() for line in fh.readlines() if line.strip()]"
   ]
  },
  {
   "cell_type": "code",
   "execution_count": 3,
   "metadata": {},
   "outputs": [],
   "source": [
    "hands_bids = []\n",
    "bids = []\n",
    "for line in lines:\n",
    "    hand, bid = line.split(\" \")\n",
    "    hands_bids.append((hand, int(bid)))"
   ]
  },
  {
   "cell_type": "code",
   "execution_count": 4,
   "metadata": {},
   "outputs": [
    {
     "name": "stdout",
     "output_type": "stream",
     "text": [
      "245794640\n"
     ]
    }
   ],
   "source": [
    "# Part 1\n",
    "def hand_type(hand):\n",
    "    hist = defaultdict(int)\n",
    "    for card in hand:\n",
    "        hist[card] += 1\n",
    "    runs = sorted([hist[k] for k in hist], reverse=True)\n",
    "    return 10 * runs[0] + (runs[1] if len(runs) > 1 else 0)\n",
    "\n",
    "figures = \"TJQKA\"\n",
    "score_map = {figures[i]: 10 + i for i in range(5)}\n",
    "score_map.update({str(i): i for i in range(2, 10)})\n",
    "\n",
    "def card_scores(hand):\n",
    "    return tuple(map(lambda k: score_map[k], hand))\n",
    "\n",
    "sorted_hands = sorted(hands_bids, key = lambda x: (hand_type(x[0]), card_scores(x[0])))\n",
    "s = 0\n",
    "for i, (hand, bid) in enumerate(sorted_hands):\n",
    "    s += (i + 1) * bid\n",
    "print(s)"
   ]
  },
  {
   "cell_type": "code",
   "execution_count": 5,
   "metadata": {},
   "outputs": [
    {
     "name": "stdout",
     "output_type": "stream",
     "text": [
      "247899149\n"
     ]
    }
   ],
   "source": [
    "# Part 2\n",
    "def hand_type(hand):\n",
    "    hist = defaultdict(int)\n",
    "    for card in hand:\n",
    "        hist[card] += 1\n",
    "    best_runs = sorted([(v, k) for k, v in hist.items() if k != \"J\"], reverse=True)\n",
    "    if best_runs:\n",
    "        best_run = best_runs[0][1]\n",
    "        hist[best_run] += hist[\"J\"]\n",
    "        hist[\"J\"] = 0\n",
    "    runs = sorted([hist[k] for k in hist], reverse=True)\n",
    "    return 10 * runs[0] + (runs[1] if len(runs) > 1 else 0)\n",
    "\n",
    "figures = \"TQKA\"\n",
    "score_map = {figures[i]: 10 + i for i in range(4)}\n",
    "score_map.update({str(i): i for i in range(2, 10)})\n",
    "score_map[\"J\"] = 1\n",
    "\n",
    "def card_scores(hand):\n",
    "    return tuple(map(lambda k: score_map[k], hand))\n",
    "\n",
    "sorted_hands = sorted(hands_bids, key = lambda x: (hand_type(x[0]), card_scores(x[0])))\n",
    "s = 0\n",
    "for i, (hand, bid) in enumerate(sorted_hands):\n",
    "    s += (i + 1) * bid\n",
    "print(s)"
   ]
  }
 ],
 "metadata": {
  "kernelspec": {
   "display_name": "Python 3",
   "language": "python",
   "name": "python3"
  },
  "language_info": {
   "codemirror_mode": {
    "name": "ipython",
    "version": 3
   },
   "file_extension": ".py",
   "mimetype": "text/x-python",
   "name": "python",
   "nbconvert_exporter": "python",
   "pygments_lexer": "ipython3",
   "version": "3.11.3"
  }
 },
 "nbformat": 4,
 "nbformat_minor": 2
}
