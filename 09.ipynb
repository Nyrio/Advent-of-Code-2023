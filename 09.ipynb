{
 "cells": [
  {
   "cell_type": "code",
   "execution_count": 1,
   "metadata": {},
   "outputs": [],
   "source": [
    "import utils\n",
    "\n",
    "with open(\"inputs/09.txt\", 'r') as fh:\n",
    "    lines = [line.strip() for line in fh.readlines() if line.strip()]"
   ]
  },
  {
   "cell_type": "code",
   "execution_count": 2,
   "metadata": {},
   "outputs": [],
   "source": [
    "sequences = [utils.ints(line) for line in lines]"
   ]
  },
  {
   "cell_type": "code",
   "execution_count": 3,
   "metadata": {},
   "outputs": [
    {
     "name": "stdout",
     "output_type": "stream",
     "text": [
      "1882395907\n"
     ]
    }
   ],
   "source": [
    "# Part 1\n",
    "s = 0\n",
    "for sequence in sequences:\n",
    "    diffs = [sequence[:]]\n",
    "    while any(v != 0 for v in diffs[-1]):\n",
    "        diffs.append([diffs[-1][i+1] - diffs[-1][i] for i in range(len(diffs[-1])-1)])\n",
    "    diffs[-1].append(0)\n",
    "    for i in range(len(diffs)-1, 0, -1):\n",
    "        diffs[i-1].append(diffs[i-1][-1] + diffs[i][-1])\n",
    "    s += diffs[0][-1]\n",
    "print(s)"
   ]
  },
  {
   "cell_type": "code",
   "execution_count": 4,
   "metadata": {},
   "outputs": [
    {
     "name": "stdout",
     "output_type": "stream",
     "text": [
      "1005\n"
     ]
    }
   ],
   "source": [
    "# Part 2\n",
    "s = 0\n",
    "for sequence in sequences:\n",
    "    diffs = [sequence[:]]\n",
    "    while any(v != 0 for v in diffs[-1]):\n",
    "        diffs.append([diffs[-1][i+1] - diffs[-1][i] for i in range(len(diffs[-1])-1)])\n",
    "    diffs[-1].insert(0, 0)\n",
    "    for i in range(len(diffs)-1, 0, -1):\n",
    "        diffs[i-1].insert(0, diffs[i-1][0] - diffs[i][0])\n",
    "    s += diffs[0][0]\n",
    "print(s)"
   ]
  }
 ],
 "metadata": {
  "kernelspec": {
   "display_name": "Python 3",
   "language": "python",
   "name": "python3"
  },
  "language_info": {
   "codemirror_mode": {
    "name": "ipython",
    "version": 3
   },
   "file_extension": ".py",
   "mimetype": "text/x-python",
   "name": "python",
   "nbconvert_exporter": "python",
   "pygments_lexer": "ipython3",
   "version": "3.11.3"
  }
 },
 "nbformat": 4,
 "nbformat_minor": 2
}
