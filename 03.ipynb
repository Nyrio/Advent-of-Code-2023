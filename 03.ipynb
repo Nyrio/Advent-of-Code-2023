{
 "cells": [
  {
   "cell_type": "code",
   "execution_count": 1,
   "metadata": {},
   "outputs": [],
   "source": [
    "from collections import defaultdict\n",
    "\n",
    "with open(\"inputs/03.txt\", 'r') as fh:\n",
    "    lines = [line.strip() for line in fh.readlines() if line.strip()]"
   ]
  },
  {
   "cell_type": "code",
   "execution_count": 2,
   "metadata": {},
   "outputs": [
    {
     "name": "stdout",
     "output_type": "stream",
     "text": [
      "519444\n"
     ]
    }
   ],
   "source": [
    "# Part 1\n",
    "h, w = len(lines), len(lines[0])\n",
    "s = 0\n",
    "for i in range(h):\n",
    "    for j in range(w):\n",
    "        # Find out if this is the start of a number\n",
    "        if not lines[i][j].isnumeric():\n",
    "            continue\n",
    "        if j > 0 and lines[i][j-1].isnumeric():\n",
    "            continue\n",
    "        # Find the extent of the number [j,k[\n",
    "        k = j + 1\n",
    "        while k < w and lines[i][k].isnumeric():\n",
    "            k += 1\n",
    "        # Check if the number is adjacent to a symbol\n",
    "        adjacent = False\n",
    "        for i2 in range(i-1, i+2):\n",
    "            for j2 in range(j-1, k+1):\n",
    "                if (i2 >= 0 and i2 < h and j2 >= 0 and j2 < w\n",
    "                    and not lines[i2][j2].isnumeric() and lines[i2][j2] != \".\"):\n",
    "                    adjacent = True\n",
    "        if not adjacent:\n",
    "            continue\n",
    "        # Part number: add to the sum\n",
    "        s += int(lines[i][j:k])\n",
    "print(s)"
   ]
  },
  {
   "cell_type": "code",
   "execution_count": 3,
   "metadata": {},
   "outputs": [
    {
     "name": "stdout",
     "output_type": "stream",
     "text": [
      "74528807\n"
     ]
    }
   ],
   "source": [
    "# Part 2\n",
    "h, w = len(lines), len(lines[0])\n",
    "gear_lists = defaultdict(list)\n",
    "# First find all the parts adjacent to each gear\n",
    "for i in range(h):\n",
    "    for j in range(w):\n",
    "        if not lines[i][j].isnumeric():\n",
    "            continue\n",
    "        if j > 0 and lines[i][j-1].isnumeric():\n",
    "            continue\n",
    "        k = j + 1\n",
    "        while k < w and lines[i][k].isnumeric():\n",
    "            k += 1\n",
    "        for i2 in range(i-1, i+2):\n",
    "            for j2 in range(j-1, k+1):\n",
    "                if i2 >= 0 and i2 < h and j2 >= 0 and j2 < w and lines[i2][j2] == \"*\":\n",
    "                    gear_lists[(i2, j2)].append(int(lines[i][j:k]))\n",
    "# Then sum up gear ratios for gears adjacent to exactly 2 parts\n",
    "s = 0\n",
    "for k, parts in gear_lists.items():\n",
    "    if len(parts) == 2:\n",
    "        s += parts[0] * parts[1]\n",
    "print(s)"
   ]
  }
 ],
 "metadata": {
  "kernelspec": {
   "display_name": "Python 3",
   "language": "python",
   "name": "python3"
  },
  "language_info": {
   "codemirror_mode": {
    "name": "ipython",
    "version": 3
   },
   "file_extension": ".py",
   "mimetype": "text/x-python",
   "name": "python",
   "nbconvert_exporter": "python",
   "pygments_lexer": "ipython3",
   "version": "3.11.3"
  }
 },
 "nbformat": 4,
 "nbformat_minor": 2
}
