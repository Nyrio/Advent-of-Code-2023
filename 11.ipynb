{
 "cells": [
  {
   "cell_type": "code",
   "execution_count": 1,
   "metadata": {},
   "outputs": [],
   "source": [
    "with open(\"inputs/11.txt\", 'r') as fh:\n",
    "    image = [list(line.strip()) for line in fh.readlines() if line.strip()]"
   ]
  },
  {
   "cell_type": "code",
   "execution_count": 2,
   "metadata": {},
   "outputs": [],
   "source": [
    "H = len(image)\n",
    "W = len(image[0])"
   ]
  },
  {
   "cell_type": "code",
   "execution_count": 3,
   "metadata": {},
   "outputs": [
    {
     "name": "stdout",
     "output_type": "stream",
     "text": [
      "9545480\n"
     ]
    }
   ],
   "source": [
    "# Part 1 (naive solution)\n",
    "# Find rows and columns without galaxies\n",
    "empty_rows = [all(image[i][j] == \".\" for j in range(W)) for i in range(H)]\n",
    "empty_cols = [all(image[i][j] == \".\" for i in range(H)) for j in range(W)]\n",
    "# Vertical expansion\n",
    "tmp = []\n",
    "for i in range(H):\n",
    "    for k in range(1 + int(empty_rows[i])):\n",
    "        tmp.append(image[i][:])\n",
    "HL = len(tmp)\n",
    "# Horizontal expansion\n",
    "expanded = [[] for _ in range(HL)]\n",
    "for j in range(W):\n",
    "    for k in range(1 + int(empty_cols[j])):\n",
    "        for i in range(HL):\n",
    "            expanded[i].append(tmp[i][j])\n",
    "WL = len(expanded[0])\n",
    "# Store coordinates of the galaxies in expanded space\n",
    "galaxies = []\n",
    "for i in range(HL):\n",
    "    for j in range(WL):\n",
    "        if expanded[i][j] == \"#\":\n",
    "            galaxies.append((i, j))\n",
    "# Sum up Manhattan distances\n",
    "N = len(galaxies)\n",
    "s = 0\n",
    "for a in range(N):\n",
    "    ia, ja = galaxies[a]\n",
    "    for b in range(a + 1, N):\n",
    "        ib, jb = galaxies[b]\n",
    "        s += abs(ia - ib) + abs(ja - jb)\n",
    "print(s)"
   ]
  },
  {
   "cell_type": "code",
   "execution_count": 4,
   "metadata": {},
   "outputs": [
    {
     "name": "stdout",
     "output_type": "stream",
     "text": [
      "406725732046\n"
     ]
    }
   ],
   "source": [
    "# Part 2\n",
    "EXPANSION_FACTOR = 1000000\n",
    "# Compute a prefix sum of rows and columns weights\n",
    "rows_weights = [EXPANSION_FACTOR if empty_rows[i] else 1 for i in range(H)]\n",
    "cols_weights = [EXPANSION_FACTOR if empty_cols[j] else 1 for j in range(W)]\n",
    "rows_scan = [rows_weights[0]]\n",
    "cols_scan = [cols_weights[0]]\n",
    "for i in range(1, H):\n",
    "    rows_scan.append(rows_scan[-1] + rows_weights[i])\n",
    "for j in range(1, W):\n",
    "    cols_scan.append(cols_scan[-1] + cols_weights[j])\n",
    "# Store coordinates of the galaxies in original space\n",
    "galaxies = []\n",
    "for i in range(H):\n",
    "    for j in range(W):\n",
    "        if image[i][j] == \"#\":\n",
    "            galaxies.append((i, j))\n",
    "# Sum up Manhattan distances but use difference of the prefix sums\n",
    "s = 0\n",
    "for a in range(N):\n",
    "    ia, ja = galaxies[a]\n",
    "    for b in range(a + 1, N):\n",
    "        ib, jb = galaxies[b]\n",
    "        s += abs(rows_scan[ia] - rows_scan[ib]) + abs(cols_scan[ja] - cols_scan[jb])\n",
    "print(s)"
   ]
  }
 ],
 "metadata": {
  "kernelspec": {
   "display_name": "Python 3",
   "language": "python",
   "name": "python3"
  },
  "language_info": {
   "codemirror_mode": {
    "name": "ipython",
    "version": 3
   },
   "file_extension": ".py",
   "mimetype": "text/x-python",
   "name": "python",
   "nbconvert_exporter": "python",
   "pygments_lexer": "ipython3",
   "version": "3.11.3"
  }
 },
 "nbformat": 4,
 "nbformat_minor": 2
}
