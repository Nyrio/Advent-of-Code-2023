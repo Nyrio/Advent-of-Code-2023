{
 "cells": [
  {
   "cell_type": "code",
   "execution_count": 1,
   "metadata": {},
   "outputs": [],
   "source": [
    "import bisect\n",
    "from collections import defaultdict\n",
    "import re\n",
    "import utils"
   ]
  },
  {
   "cell_type": "code",
   "execution_count": 2,
   "metadata": {},
   "outputs": [],
   "source": [
    "with open(\"inputs/05.txt\", 'r') as fh:\n",
    "    lines = [line.strip() for line in fh.readlines() if line.strip()]"
   ]
  },
  {
   "cell_type": "code",
   "execution_count": 3,
   "metadata": {},
   "outputs": [],
   "source": [
    "seeds = utils.ints(lines[0])\n",
    "\n",
    "maps = defaultdict(list)\n",
    "next_key = {}\n",
    "reg_line = re.compile(r\"(?P<src>\\w+)-to-(?P<dst>\\w+) map:\")\n",
    "for line in lines[1:]:\n",
    "    m = re.match(reg_line, line)\n",
    "    if m:\n",
    "        src = m.group(\"src\")\n",
    "        dst = m.group(\"dst\")\n",
    "        next_key[src] = dst\n",
    "    else:\n",
    "        maps[src].append(tuple(map(int, line.split(\" \"))))\n",
    "\n",
    "for k in maps:\n",
    "    maps[k].sort(key=lambda x: x[1])"
   ]
  },
  {
   "cell_type": "code",
   "execution_count": 4,
   "metadata": {},
   "outputs": [
    {
     "name": "stdout",
     "output_type": "stream",
     "text": [
      "278755257\n"
     ]
    }
   ],
   "source": [
    "# Part 1\n",
    "min_loc = None\n",
    "for seed in seeds:\n",
    "    key = \"seed\"\n",
    "    val = seed\n",
    "    while key != \"location\":\n",
    "        i = bisect.bisect_right(list(map(lambda x: x[1], maps[key])), val) - 1\n",
    "        if i >= 0:\n",
    "            dst_start, src_start, range_len = maps[key][i]\n",
    "            if val < src_start + range_len:\n",
    "                val += dst_start - src_start\n",
    "        key = next_key[key]\n",
    "    if min_loc is None or val < min_loc:\n",
    "        min_loc = val\n",
    "print(min_loc)"
   ]
  },
  {
   "cell_type": "code",
   "execution_count": 5,
   "metadata": {},
   "outputs": [
    {
     "name": "stdout",
     "output_type": "stream",
     "text": [
      "26829166\n"
     ]
    }
   ],
   "source": [
    "# Part 2\n",
    "def chase(key, val_start, val_end):\n",
    "    if key == \"location\":\n",
    "        return val_start\n",
    "    i = bisect.bisect_right(list(map(lambda x: x[1], maps[key])), val_start) - 1\n",
    "    if i >= 0:\n",
    "        dst_start, src_start, range_len = maps[key][i]\n",
    "        if val_start < src_start + range_len:\n",
    "            if val_end < src_start + range_len:\n",
    "                return chase(next_key[key], val_start + dst_start - src_start,\n",
    "                             val_end + dst_start - src_start)\n",
    "            else:\n",
    "                return min(chase(next_key[key], val_start + dst_start - src_start,\n",
    "                             dst_start + range_len - 1),\n",
    "                           chase(key, src_start + range_len, val_end))\n",
    "    return chase(next_key[key], val_start, val_end)\n",
    "\n",
    "min_loc = None\n",
    "for i in range(len(seeds) // 2):\n",
    "    seed_start, seed_len = seeds[2*i], seeds[2*i + 1]\n",
    "    val = chase(\"seed\", seed_start, seed_start + seed_len - 1)\n",
    "    if min_loc is None or val < min_loc:\n",
    "        min_loc = val\n",
    "print(min_loc)\n"
   ]
  }
 ],
 "metadata": {
  "kernelspec": {
   "display_name": "Python 3",
   "language": "python",
   "name": "python3"
  },
  "language_info": {
   "codemirror_mode": {
    "name": "ipython",
    "version": 3
   },
   "file_extension": ".py",
   "mimetype": "text/x-python",
   "name": "python",
   "nbconvert_exporter": "python",
   "pygments_lexer": "ipython3",
   "version": "3.11.3"
  }
 },
 "nbformat": 4,
 "nbformat_minor": 2
}
