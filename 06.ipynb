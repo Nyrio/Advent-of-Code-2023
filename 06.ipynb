{
 "cells": [
  {
   "cell_type": "code",
   "execution_count": 1,
   "metadata": {},
   "outputs": [],
   "source": [
    "import utils"
   ]
  },
  {
   "cell_type": "code",
   "execution_count": 2,
   "metadata": {},
   "outputs": [],
   "source": [
    "with open(\"inputs/06.txt\", 'r') as fh:\n",
    "    lines = [line.strip() for line in fh.readlines() if line.strip()]"
   ]
  },
  {
   "cell_type": "code",
   "execution_count": 3,
   "metadata": {},
   "outputs": [
    {
     "name": "stdout",
     "output_type": "stream",
     "text": [
      "220320\n"
     ]
    }
   ],
   "source": [
    "# Part 1\n",
    "times = utils.ints(lines[0])\n",
    "dists = utils.ints(lines[1])\n",
    "prod = 1\n",
    "for time, record in zip(times, dists):\n",
    "    wins = 0\n",
    "    for hold_time in range(1, time):\n",
    "        dist = (time - hold_time) * hold_time\n",
    "        if dist > record:\n",
    "            wins += 1\n",
    "    prod *= wins\n",
    "print(prod)"
   ]
  },
  {
   "cell_type": "code",
   "execution_count": 4,
   "metadata": {},
   "outputs": [
    {
     "name": "stdout",
     "output_type": "stream",
     "text": [
      "34454850\n"
     ]
    }
   ],
   "source": [
    "# Part 2\n",
    "# There are smarter ways but brute-forcing is fast enough\n",
    "big_time = int(lines[0][5:].replace(\" \", \"\"))\n",
    "big_record = int(lines[1][9:].replace(\" \", \"\"))\n",
    "wins = 0\n",
    "for hold_time in range(1, big_time):\n",
    "    dist = (big_time - hold_time) * hold_time\n",
    "    if dist > big_record:\n",
    "        wins += 1\n",
    "print(wins)"
   ]
  }
 ],
 "metadata": {
  "kernelspec": {
   "display_name": "Python 3",
   "language": "python",
   "name": "python3"
  },
  "language_info": {
   "codemirror_mode": {
    "name": "ipython",
    "version": 3
   },
   "file_extension": ".py",
   "mimetype": "text/x-python",
   "name": "python",
   "nbconvert_exporter": "python",
   "pygments_lexer": "ipython3",
   "version": "3.11.3"
  }
 },
 "nbformat": 4,
 "nbformat_minor": 2
}
